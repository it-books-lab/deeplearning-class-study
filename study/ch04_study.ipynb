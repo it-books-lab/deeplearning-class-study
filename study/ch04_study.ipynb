{
  "nbformat": 4,
  "nbformat_minor": 0,
  "metadata": {
    "colab": {
      "provenance": [],
      "authorship_tag": "ABX9TyN2cj5mGlo7l/odkZllLApB"
    },
    "kernelspec": {
      "name": "python3",
      "display_name": "Python 3"
    },
    "language_info": {
      "name": "python"
    }
  },
  "cells": [
    {
      "cell_type": "code",
      "execution_count": null,
      "metadata": {
        "id": "Qm0OE4RniheZ"
      },
      "outputs": [],
      "source": [
        "import torch\n",
        "import torch.nn.functional as F\n",
        "import torch.nn as nn\n",
        "\n",
        "class MLP(torch.nn.Module):\n",
        "    def __init__(self):\n",
        "        super(MLP, self).__init__()\n",
        "        self.fc1 = nn.Linear(28*28, 512)\n",
        "        self.fc2 = nn.Linear(512, 512)\n",
        "        self.fc3 = nn.Linear(512, 10)\n",
        "\n",
        "    def forward(self, x):\n",
        "        h1 = F.relu(self.fc1(x))\n",
        "        h2 = F.relu(self.fc2(h1))\n",
        "        h3 = self.fc3(h2)\n",
        "        return h3\n"
      ]
    },
    {
      "cell_type": "code",
      "source": [
        "lr = 0.001\n",
        "epochs = 2000\n",
        "model = MLP().to(device)\n",
        "criterion = torch.nn.CrossEntropyLoss().to(device)\n",
        "optimizer = torch.optim.SGD(model.parameters(), lr=lr)\n"
      ],
      "metadata": {
        "id": "b6TXq7GgilYE"
      },
      "execution_count": null,
      "outputs": []
    },
    {
      "cell_type": "code",
      "source": [
        "import torch\n",
        "import torch.nn.functional as F\n",
        "import torch.nn as nn\n",
        "\n",
        "class MLP(torch.nn.Module):\n",
        "    def __init__(self):\n",
        "        super(MLP, self).__init__()\n",
        "        self.linear_relu_stack = nn.Sequential(\n",
        "            nn.Linear(28*28, 512),\n",
        "            nn.ReLU(),\n",
        "            nn.Linear(512, 512),\n",
        "            nn.ReLU(),\n",
        "            nn.Linear(512, 10),\n",
        "        )\n",
        "\n",
        "    def forward(self, x):\n",
        "        logits = self.linear_relu_stack(x)\n",
        "        return logits\n"
      ],
      "metadata": {
        "id": "4ajeci_uimjW"
      },
      "execution_count": null,
      "outputs": []
    },
    {
      "cell_type": "code",
      "source": [
        "lr = 0.001\n",
        "epochs = 2000\n",
        "model = MLP().to(device)\n",
        "criterion = torch.nn.CrossEntropyLoss().to(device)\n",
        "optimizer = torch.optim.SGD(model.parameters(), lr=lr)\n"
      ],
      "metadata": {
        "id": "2y2lDMW8ion1"
      },
      "execution_count": null,
      "outputs": []
    },
    {
      "cell_type": "code",
      "source": [
        "loss_save_arr = []\n",
        "for i in range(epochs):\n",
        "    ##### train #####\n",
        "    model.train()\n",
        "    optimizer.zero_grad()\n",
        "    output = model(X_train)\n",
        "    loss = criterion(output, y_train.long())\n",
        "    # l2_lambda = 0.01\n",
        "    # l2_norm = sum(p.pow(2.0).sum() for p in model.parameters())\n",
        "    # loss = loss + l2_lambda * l2_norm\n",
        "    loss.backward()\n",
        "    optimizer.step()\n",
        "    loss_save_arr.append(loss.data)\n",
        "    if(i % 100 == 0):\n",
        "        print(\"=====\")\n",
        "        print('epoch ', i)\n",
        "        print('loss ', loss.data)\n",
        "        _, pred = torch.max(output.data, axis=1)\n",
        "        print(\"train_accuracy {:0.3f}\".format(\n",
        "            float((pred == y_train).sum())/y_train.size(0)))\n",
        "\n",
        "    ##### test #####\n",
        "    model.eval()\n",
        "    with torch.no_grad():\n",
        "        output = model(X_test)\n",
        "        _, pred = torch.max(output.data, axis=1)\n",
        "        print(\"test_accuracy {:0.3f}\".format(\n",
        "            float((pred == y_test).sum())/y_test.size(0)))\n",
        "        # print('prediction ', pred)\n",
        ""
      ],
      "metadata": {
        "id": "xNK3yK2Siphi"
      },
      "execution_count": null,
      "outputs": []
    }
  ]
}